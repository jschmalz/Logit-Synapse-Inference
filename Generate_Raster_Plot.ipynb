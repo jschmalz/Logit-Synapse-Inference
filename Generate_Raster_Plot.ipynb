{
 "cells": [
  {
   "cell_type": "code",
   "execution_count": 1,
   "metadata": {},
   "outputs": [
    {
     "name": "stdout",
     "output_type": "stream",
     "text": [
      "Training Generation:  100 / 1000\n",
      "Training Generation:  200 / 1000\n",
      "Training Generation:  300 / 1000\n",
      "Training Generation:  400 / 1000\n",
      "Training Generation:  500 / 1000\n",
      "Training Generation:  600 / 1000\n",
      "Training Generation:  700 / 1000\n",
      "Training Generation:  800 / 1000\n",
      "Training Generation:  900 / 1000\n",
      "Training Generation:  1000 / 1000\n"
     ]
    }
   ],
   "source": [
    "import numpy as np\n",
    "import matplotlib.pyplot as plt\n",
    "\n",
    "# run parameters\n",
    "N = 2 # number of neurons\n",
    "duration = 6*1000 # duration in ms\n",
    "step = 0.05 #ms\n",
    "duration_steps = int(duration/step)\n",
    "\n",
    "\n",
    "Ntrain = 1000  # number of examples to generate\n",
    "x_train = np.zeros((Ntrain,duration_steps))\n",
    "y_train = np.zeros((Ntrain,2))\n",
    "\n",
    "# Generate Training Samples\n",
    "for j in range(Ntrain):\n",
    "    if np.mod(j+1,100) == 0:\n",
    "        print('Training Generation: ',j+1,'/',Ntrain)\n",
    "    \n",
    "    t = np.zeros((duration_steps, 1))\n",
    "    V = np.zeros((duration_steps, N))\n",
    "    spike = np.zeros((duration_steps, N))\n",
    "    spike_t = np.zeros((duration_steps, N))\n",
    "    S = np.zeros((duration_steps, N))\n",
    "    dVdt = np.zeros((duration_steps, N))\n",
    "    dSdt = np.zeros((duration_steps, N))\n",
    "    mew = np.matrix([19, 19])\n",
    "\n",
    "    vthr = 20 * np.ones((1, N))\n",
    "    Vreset = 0\n",
    "    taud = 4\n",
    "    tauV = 5\n",
    "\n",
    "    W0 = np.matrix([[0, np.random.rand()>0.5],[np.random.rand()>0.5, 0]])\n",
    "    W = 6*np.multiply(np.random.rand(2,2),W0)\n",
    " \n",
    "    for i in range(0,duration_steps-1):\n",
    "        dVdt[i,:] = (mew.reshape(1,N) + 10*np.random.randn(1,N) -V[i,:] + S[i,:])/tauV \n",
    "        dSdt[i,:] = -S[i]/taud\n",
    "        V[i+1,:] = np.multiply((V[i,:]<vthr),(V[i,:] + np.multiply(step,dVdt[i,:])).reshape(1,N))  \n",
    "        S[i+1,:] = S[i,:] + np.multiply(step,dSdt[i,:]).reshape(1,N) + np.dot((V[i,:]>vthr).reshape(1,N),W)\n",
    "        t[i+1] = t[i] + step\n",
    "        spike_t[i+1,:] = np.multiply((V[i,:]<20),spike[i+1,:]) + np.multiply((V[i,:]<20),np.matrix([step,step])+spike_t[i,:])\n",
    "        spike[i+1,:] = np.dot((V[i,:]>=20).reshape((N,1)),[1])\n",
    "\n",
    "\n",
    "    x_train[j,:] = spike_t[:,0] - spike_t[:,1] \n",
    "    y_train[j,0] = W[0,1]\n",
    "    y_train[j,1] = W[1,0]"
   ]
  },
  {
   "cell_type": "code",
   "execution_count": 2,
   "metadata": {},
   "outputs": [],
   "source": [
    "np.save('x_train.npy',x_train)\n",
    "np.save('y_train.npy',y_train)"
   ]
  },
  {
   "cell_type": "code",
   "execution_count": null,
   "metadata": {},
   "outputs": [],
   "source": []
  }
 ],
 "metadata": {
  "kernelspec": {
   "display_name": "Python 3",
   "language": "python",
   "name": "python3"
  },
  "language_info": {
   "codemirror_mode": {
    "name": "ipython",
    "version": 3
   },
   "file_extension": ".py",
   "mimetype": "text/x-python",
   "name": "python",
   "nbconvert_exporter": "python",
   "pygments_lexer": "ipython3",
   "version": "3.6.8"
  }
 },
 "nbformat": 4,
 "nbformat_minor": 4
}
